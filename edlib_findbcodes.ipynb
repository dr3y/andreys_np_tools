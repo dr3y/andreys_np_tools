{
 "cells": [
  {
   "cell_type": "code",
   "execution_count": 3,
   "metadata": {},
   "outputs": [
    {
     "name": "stdout",
     "output_type": "stream",
     "text": [
      "done\n"
     ]
    }
   ],
   "source": [
    "import sys\n",
    "import os\n",
    "sys.path.append(os.path.join(\".\",\"nptools\"))\n",
    "\n",
    "#Jseq = \"GCTCAGTGGTGTACGGTACAAACCAGTAGCTAGCATTATACCTAGGACTGAGCTAGCTGTCAGCTCCGGCTTGTCGACGACGGCGT\"\n",
    "#Pseq = \"GCTCAGTGGTGTACGGTACAAACCAGTATCCACACATTATACGAGCCGGATGATTAAATTGAAACTCCGGCTTGTCGACGACGGCGT\"\n",
    "\n",
    "Jonly = \"CTGACAGCTAGCTCAGTCCTAGGTATAATGCTAGC\" #this one is on the \"CC\" plasmid\n",
    "Ponly = \"TTTCAATTTAATCATCCGGCTCGTATAATGTGTGGA\" #this one is on the \"PA\" plasmid\n",
    "bc0 = \"AGTAGCACTAGGCAATTTGTTCCGTATTGAAGAGACAGC\" #I accidentally put this one on both plasmids, then changed to below\n",
    "\n",
    "\n",
    "uintf_isce=[\"TGTGGCCTCTGATTGGTGTCTAGGGATAACAGGGTAAT\",\"uintf_isce\"]\n",
    "attL=[\"AATGGGCTTGTCGACGACGGCGTGCTCAGTGGTGTACGGTACAAACCTACT\",\"attL\"]\n",
    "bc2 = [\"CTAGTTAGATGATAAACTAGTTGCTTGGAACGAACCGG\",\"bc2\"] #this one is associated with the \"PA\" plasmid\n",
    "bc1 = [\"ACCAATGGAGCAGGAATAGTTACTCATCAGCTGGTGAG\",\"bc1\"] #this one is usually associated with the \"CC\" plasmid\n",
    "attB=[\"CTCCGGCTTGTCGACGACGGCGTGCTCCGTCGTCAGGATCATACCT\",\"attB\"]\n",
    "U21R=[\"GCTGGGAGTTCGTAGACGGA\",\"U21R\"]\n",
    "U22R=[\"AACAAACGCAGAATCCAAGC\",\"U22R\"]\n",
    "t_iscei=[\"CCTCAGATGACCGATCAGGCATTACCCTGTTATCCCTAGGCA\",\"t_iscei\"]\n",
    "\n",
    "\n",
    "\n",
    "PA_portion=\"TAAGGGATTTTGGTCATGAGATTATCAAAAAGGATCTTCACCTAGATCCTTTTAAATTAAAAATGAAGTTTTAAATCAATCTAAAGTATATATGA\"\n",
    "CC_portion=\"\"\n",
    "\n",
    "\n",
    "barcodes = {\n",
    "    \"BC01\":\"AAGAAAGTTGTCGGTGTCTTTGT\",\n",
    "    \"BC02\":\"TCGATTCCGTTTGTAGTCGTCTG\",\n",
    "    \"BC03\":\"GAGTCTTGTGTCCCAGTTACCAG\",\n",
    "    \"BC04\":\"TTCGGATTCTATCGTGTTTCCCT\",\n",
    "    \"BC05\":\"CTTGTCCAGGGTTTGTGTAACCT\",\n",
    "    \"BC06\":\"TTCTCGCAAAGGCAGAAAGTAGT\",\n",
    "    \"BC07\":\"GTGTTACCGTGGGAATGAATCCT\",\n",
    "    \"BC08\":\"TTCAGGGAACAAACCAAGTTACG\",\n",
    "    \"BC09\":\"AACTAGGCACAGCGAGTCTTGGT\",\n",
    "    \"BC10\":\"AAGCGTTGAAACCTTTGTCCTCT\",\n",
    "    \"BC11\":\"GTTTCATCTATCGGAGGGAATGG\",\n",
    "    \"BC12\":\"CAGGTAGAAAGAAGCAGAATCGG\",\n",
    "    \"BC13\":\"AGAACGACTTCCATACTCGTGTG\",\n",
    "    \"BC14\":\"AACGAGTCTCTTGGGACCCATAG\",\n",
    "    \"BC15\":\"AGGTCTACCTCGCTAACACCACT\"\n",
    "    }\n",
    "bclist = {}\n",
    "\n",
    "bcorder = {1:[[uintf_isce],[2]],\n",
    "            2:[[attL],[3]],\n",
    "            3:[[bc1,bc2],[2,4]],\n",
    "            4:[[attB],[\"x\"]],\n",
    "            }\n",
    "\"\"\"\n",
    "{1:[[uintf_isce],[2]],\n",
    "            2:[[attL],[3]],\n",
    "            3:[[bc1,bc2],[2,6,10]],\n",
    "            4:[[attB],[5]],\n",
    "            5:[[U22R,U21R],[\"x\"]],\n",
    "            6:[[attL],[7]],\n",
    "            7:[[bc1],[8]],\n",
    "            8:[[attB],[9]],\n",
    "            9:[[U21R],[\"x\"]],\n",
    "            10:[[attL],[11]],\n",
    "            11:[[bc2],[12]],\n",
    "            12:[[attB],[13]],\n",
    "            13:[[U22R],[\"x\"]],\n",
    "            }\n",
    "\"\"\"\n",
    "\n",
    "\n",
    "from nanopore_scripts import *\n",
    "print(\"done\")"
   ]
  },
  {
   "cell_type": "code",
   "execution_count": 4,
   "metadata": {},
   "outputs": [
    {
     "name": "stdout",
     "output_type": "stream",
     "text": [
      "330\n",
      "[1]\n",
      "[2]\n",
      "[3]\n",
      "found bc1 matching 0.631578947368421 in 0:139\n",
      "[2, 4]\n",
      "[3, 'x']\n",
      "found bc1 matching 0.6052631578947368 in 102:215\n",
      "found bc2 matching 0.6052631578947368 in 102:215\n",
      "[2, 4]\n",
      "[3, 'x']\n",
      "[2, 4]\n",
      "[3, 'x']\n",
      "[2, 4]\n",
      "[3, 'x']\n",
      "[2]\n",
      "['unidentified', 'unidentified', 'bc1', 'unidentified', 'bc2', 'unidentified', 'unidentified', 'unidentified', 'unidentified', 'unidentified', 'unidentified', 'unidentified']\n",
      "[1]\n",
      "found uintf_isce matching 0.6842105263157895 in 0:50\n",
      "[2]\n",
      "found attL matching 0.7450980392156863 in 37:112\n",
      "[3]\n",
      "[2, 4]\n",
      "found attL matching 0.6470588235294117 in 109:222\n",
      "[3]\n",
      "found bc2 matching 0.6052631578947368 in 201:263\n",
      "[2, 4]\n",
      "[3, 'x']\n",
      "found bc1 matching 0.631578947368421 in 259:330\n",
      "[2, 4]\n",
      "['x']\n",
      "['uintf_isce', 'attL', 'unidentified', 'attL', 'bc2', 'unidentified', 'bc1', 'unidentified', 'unidentified']\n"
     ]
    }
   ],
   "source": [
    "testseq = \"AAGAAAGTTGTCGGTGTCTTTTGTTCCGTCTACGAACTCCCCAGCAGGTAGAAGTCCTGACGACGGTACGCCGTCGTCGACAAACCAGAGCTGACAGCTAGCTCAGTCCCTGGAGTATAATGCTAGCTACTGGTTTGGCCACCCGTACACCACTGGGCTTTGCCATGGTCGACAGAAAGCCAGACTGACAACTAGCGCAGTCCTAGGTGTAATACTAGCTACTGGTTTCTTTCATTACACCACCAGACACGCCGTCGTCGACAAACCCGTATACCCTGGTATCCCTGGAGCACCAATCAGAGGCCACTATAGAACACCGACAACTTTCTT\"\n",
    "print(len(testseq))\n",
    "y = findBarcodes(testseq,bcorder,thresh=0.6)\n",
    "print(y)\n",
    "x = findBarcodes(rc(testseq),bcorder,thresh=0.6)\n",
    "print(x)"
   ]
  },
  {
   "cell_type": "code",
   "execution_count": null,
   "metadata": {},
   "outputs": [],
   "source": []
  }
 ],
 "metadata": {
  "file_extension": ".py",
  "kernelspec": {
   "display_name": "Python 3",
   "language": "python",
   "name": "python3"
  },
  "language_info": {
   "codemirror_mode": {
    "name": "ipython",
    "version": 3
   },
   "file_extension": ".py",
   "mimetype": "text/x-python",
   "name": "python",
   "nbconvert_exporter": "python",
   "pygments_lexer": "ipython3",
   "version": "3.7.4"
  },
  "mimetype": "text/x-python",
  "name": "python",
  "npconvert_exporter": "python",
  "pygments_lexer": "ipython3",
  "version": 3
 },
 "nbformat": 4,
 "nbformat_minor": 2
}
