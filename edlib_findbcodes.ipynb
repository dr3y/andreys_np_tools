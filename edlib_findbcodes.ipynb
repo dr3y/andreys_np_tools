{
 "nbformat": 4,
 "nbformat_minor": 2,
 "metadata": {
  "language_info": {
   "name": "python",
   "codemirror_mode": {
    "name": "ipython",
    "version": 3
   },
   "version": "3.6.3-final"
  },
  "orig_nbformat": 2,
  "file_extension": ".py",
  "mimetype": "text/x-python",
  "name": "python",
  "npconvert_exporter": "python",
  "pygments_lexer": "ipython3",
  "version": 3,
  "kernelspec": {
   "name": "python3",
   "display_name": "Python 3"
  }
 },
 "cells": [
  {
   "cell_type": "code",
   "execution_count": 2,
   "metadata": {},
   "outputs": [
    {
     "name": "stdout",
     "output_type": "stream",
     "text": "done\n"
    }
   ],
   "source": [
    "import sys\n",
    "import os\n",
    "sys.path.append(os.path.join(\".\",\"nptools\"))\n",
    "\n",
    "#Jseq = \"GCTCAGTGGTGTACGGTACAAACCAGTAGCTAGCATTATACCTAGGACTGAGCTAGCTGTCAGCTCCGGCTTGTCGACGACGGCGT\"\n",
    "#Pseq = \"GCTCAGTGGTGTACGGTACAAACCAGTATCCACACATTATACGAGCCGGATGATTAAATTGAAACTCCGGCTTGTCGACGACGGCGT\"\n",
    "\n",
    "Jonly = \"CTGACAGCTAGCTCAGTCCTAGGTATAATGCTAGC\" #this one is on the \"CC\" plasmid\n",
    "Ponly = \"TTTCAATTTAATCATCCGGCTCGTATAATGTGTGGA\" #this one is on the \"PA\" plasmid\n",
    "bc0 = \"AGTAGCACTAGGCAATTTGTTCCGTATTGAAGAGACAGC\" #I accidentally put this one on both plasmids, then changed to below\n",
    "bc1 = \"ACCAATGGAGCAGGAATAGTTACTCATCAGCTGGTGAG\" #this one is usually associated with the \"CC\" plasmid\n",
    "bc2 = \"CTAGTTAGATGATAAACTAGTTGCTTGGAACGAACCGG\" #this one is associated with the \"PA\" plasmid\n",
    "uintf_isce=\"TGTGGCCTCTGATTGGTGTCTAGGGATAACAGGGTAAT\"\n",
    "attL=\"AATGGGCTTGTCGACGACGGCGTGCTCAGTGGTGTACGGTACAAACCTACT\"\n",
    "attB=\"CTCCGGCTTGTCGACGACGGCGTGCTCCGTCGTCAGGATCATACCT\"\n",
    "U21R=\"GCTGGGAGTTCGTAGACGGA\"\n",
    "U22R=\n",
    "\n",
    "\n",
    "\n",
    "barcodes = {\n",
    "    \"BC01\":\"AAGAAAGTTGTCGGTGTCTTTGT\",\n",
    "    \"BC02\":\"TCGATTCCGTTTGTAGTCGTCTG\",\n",
    "    \"BC03\":\"GAGTCTTGTGTCCCAGTTACCAG\",\n",
    "    \"BC04\":\"TTCGGATTCTATCGTGTTTCCCT\",\n",
    "    \"BC05\":\"CTTGTCCAGGGTTTGTGTAACCT\",\n",
    "    \"BC06\":\"TTCTCGCAAAGGCAGAAAGTAGT\",\n",
    "    \"BC07\":\"GTGTTACCGTGGGAATGAATCCT\",\n",
    "    \"BC08\":\"TTCAGGGAACAAACCAAGTTACG\",\n",
    "    \"BC09\":\"AACTAGGCACAGCGAGTCTTGGT\",\n",
    "    \"BC10\":\"AAGCGTTGAAACCTTTGTCCTCT\",\n",
    "    \"BC11\":\"GTTTCATCTATCGGAGGGAATGG\",\n",
    "    \"BC12\":\"CAGGTAGAAAGAAGCAGAATCGG\",\n",
    "    \"BC13\":\"AGAACGACTTCCATACTCGTGTG\",\n",
    "    \"BC14\":\"AACGAGTCTCTTGGGACCCATAG\",\n",
    "    \"BC15\":\"AGGTCTACCTCGCTAACACCACT\"\n",
    "    }\n",
    "bclist = {'bc0':bc0,'bc1':bc1}\n",
    "from nanopore_scripts import *\n",
    "npbc_justseqs = []\n",
    "npbc_justseqs_rc = []\n",
    "for bc in barcodes:\n",
    "    npbc_justseqs+=[barcodes[bc]]\n",
    "    npbc_justseqs_rc+=[rc(barcodes[bc])]\n",
    "    barcodes[bc]= (barcodes[bc],rc(barcodes[bc]))\n",
    "npbc_justseqs += npbc_justseqs_rc\n",
    "print(\"done\")"
   ]
  },
  {
   "cell_type": "code",
   "execution_count": null,
   "metadata": {},
   "outputs": [],
   "source": []
  }
 ]
}