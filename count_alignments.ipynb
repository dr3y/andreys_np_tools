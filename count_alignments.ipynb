{
 "metadata": {
  "language_info": {
   "codemirror_mode": {
    "name": "ipython",
    "version": 3
   },
   "file_extension": ".py",
   "mimetype": "text/x-python",
   "name": "python",
   "nbconvert_exporter": "python",
   "pygments_lexer": "ipython3",
   "version": "3.7.7"
  },
  "orig_nbformat": 2,
  "kernelspec": {
   "name": "python377jvsc74a57bd07b4b4feff2f24a0f0a34464dbe537a36fda679851528fb8735cb41fa49dffb2d",
   "display_name": "Python 3.7.7 64-bit ('base': conda)"
  }
 },
 "nbformat": 4,
 "nbformat_minor": 2,
 "cells": [
  {
   "cell_type": "code",
   "execution_count": 3,
   "metadata": {},
   "outputs": [],
   "source": [
    "import pandas as pd\n",
    "import os\n",
    "sys.path.append(os.path.join(\".\",\"nptools\"))\n",
    "from nanopore_scripts import *"
   ]
  },
  {
   "cell_type": "code",
   "execution_count": 6,
   "metadata": {},
   "outputs": [
    {
     "output_type": "stream",
     "name": "stdout",
     "text": [
      "['p1', 'p2', 'p1_p1', 'p1_p2', 'p2_p1', 'p2_p2', 'p1_p1_p1', 'p1_p1_p2', 'p1_p2_p1', 'p1_p2_p2', 'p2_p1_p1', 'p2_p1_p2', 'p2_p2_p1', 'p2_p2_p2', 'p1_p1_p1_p1', 'p1_p1_p1_p2', 'p1_p1_p2_p1', 'p1_p1_p2_p2', 'p1_p2_p1_p1', 'p1_p2_p1_p2', 'p1_p2_p2_p1', 'p1_p2_p2_p2', 'p2_p1_p1_p1', 'p2_p1_p1_p2', 'p2_p1_p2_p1', 'p2_p1_p2_p2', 'p2_p2_p1_p1', 'p2_p2_p1_p2', 'p2_p2_p2_p1', 'p2_p2_p2_p2']\n"
     ]
    }
   ],
   "source": [
    "date = \"210507\"\n",
    "subfolder = \"210526minimap3\"\n",
    "genome_used = \"0-3intPlasmid_short\"\n",
    "\n",
    "bclist = [f\"BC{a:02d}\" for a in range(6,11)]\n",
    "bcdict = {a:f\"{a}_{genome_used}\" for a in bclist}\n",
    "\n",
    "\n",
    "int_strings1 = allpaths([[\"p1\",\"p2\"],[\"p1\",\"p2\"]])\n",
    "int_strings2 = allpaths([[\"p1\",\"p2\"],[\"p1\",\"p2\"],[\"p1\",\"p2\"]])\n",
    "int_strings3 = allpaths([[\"p1\",\"p2\"],[\"p1\",\"p2\"],[\"p1\",\"p2\"],[\"p1\",\"p2\"]])\n",
    "\n",
    "genomelist = [\"_\".join(a) for a in [[\"p1\"],[\"p2\"]]+int_strings1+int_strings2+int_strings3]\n"
   ]
  }
 ]
}