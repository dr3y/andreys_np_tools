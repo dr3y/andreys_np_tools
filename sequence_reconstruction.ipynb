{
 "metadata": {
  "language_info": {
   "codemirror_mode": {
    "name": "ipython",
    "version": 3
   },
   "file_extension": ".py",
   "mimetype": "text/x-python",
   "name": "python",
   "nbconvert_exporter": "python",
   "pygments_lexer": "ipython3",
   "version": "3.7.7-final"
  },
  "orig_nbformat": 2,
  "kernelspec": {
   "name": "python3",
   "display_name": "Python 3",
   "language": "python"
  }
 },
 "nbformat": 4,
 "nbformat_minor": 2,
 "cells": [
  {
   "cell_type": "code",
   "execution_count": 1,
   "metadata": {},
   "outputs": [],
   "source": [
    "import pandas as pd\n",
    "import os\n",
    "datasetfname = os.path.join(\"input\",\"datasets.xlsx\")\n",
    "datapath = os.path.join(\"central\",\"groups\",\"murray-biocircuits\",\"ashur\",\"nanopore\")\n",
    "\n",
    "readsname = \"allreads.fastq\"\n",
    "outname = \"simprec.py\"\n",
    "\n",
    "df_data = pd.read_excel(datasetfname,sheet_name=\"alldata\",converters={\"date_sequenced\":str})\n",
    "df_inducers = pd.read_excel(datasetfname,sheet_name=\"inducers\",header=13)\n",
    "df_seqs = pd.read_excel(datasetfname,sheet_name=\"sequences\")\n",
    "\n",
    "#layout\n",
    "#            plasmid                    genome        \n",
    "#================================---------------------------\n",
    "#   [bc>  [u21r><attB]<plasbc]<attL]   <uintf] <rc(bc)]\n",
    "#<barcode><prefixseq><variable_seq><postfixseq><rc(barcode)>\n",
    "#<barcode><newplasmidend1><plasbc1><genomechunk><rc(barcode)>\n",
    "\n"
   ]
  },
  {
   "cell_type": "code",
   "execution_count": 2,
   "metadata": {},
   "outputs": [
    {
     "output_type": "execute_result",
     "data": {
      "text/plain": [
       "    date_sequenced  barcode genome int_control plasmid1 plasmid2 primerf  \\\n",
       "0           180201   L10R49  B_gen         s22    Bcsoo      NaN   UintF   \n",
       "1           180201  L10R126  B_gen         s22    Bcsoo      NaN   UintF   \n",
       "2           180201   L10L10  B_gen         s22    Bcsoo      NaN   UintF   \n",
       "3           180201   R49R49  B_gen         s22    Bcsoo      NaN   UintF   \n",
       "4           180201   L10R49  B_gen         s22    Bpcpc      NaN   UintF   \n",
       "..             ...      ...    ...         ...      ...      ...     ...   \n",
       "177         201212    npbc6    NaN       REC49      i70    i71-2   UintF   \n",
       "178         201212    npbc7    NaN       REC49      i70    i71-2   UintF   \n",
       "179         201212    npbc8    NaN       REC49      i70    i71-2   UintF   \n",
       "180         201212    npbc9    NaN       REC49      i70    i71-2   UintF   \n",
       "181         201212   npbc10    NaN       REC49      i70    i71-2   UintF   \n",
       "\n",
       "    primerr                c1                 c2   c3   c4        see  \\\n",
       "0       NaN         25,[atc2]                NaN  NaN  NaN        NaT   \n",
       "1       NaN         25,[atc1]                NaN  NaN  NaN        NaT   \n",
       "2       NaN          25,[atc]                NaN  NaN  NaN        NaT   \n",
       "3       NaN             25,[]                NaN  NaN  NaN        NaT   \n",
       "4       NaN         25,[atc2]                NaN  NaN  NaN        NaT   \n",
       "..      ...               ...                ...  ...  ...        ...   \n",
       "177  chlorR          5,[sal1]          25,[sal1]  NaN  NaN 2020-12-11   \n",
       "178  chlorR          5,[sal1]  25,[sal1,atc,cin]  NaN  NaN 2020-12-11   \n",
       "179  chlorR  5,[sal1,atc,ara]  25,[sal1,atc,cin]  NaN  NaN 2020-12-11   \n",
       "180  chlorR          5,[sal1]  25,[sal1,atc,ara]  NaN  NaN 2020-12-11   \n",
       "181  chlorR  5,[sal1,atc,cin]  25,[sal1,atc,ara]  NaN  NaN 2020-12-11   \n",
       "\n",
       "                          prefix variable1 variable2       suffix note  \n",
       "0                            NaN       NaN       NaN          NaN  NaN  \n",
       "1                            NaN       NaN       NaN          NaN  NaN  \n",
       "2                            NaN       NaN       NaN          NaN  NaN  \n",
       "3                            NaN       NaN       NaN          NaN  NaN  \n",
       "4                            NaN       NaN       NaN          NaN  NaN  \n",
       "..                           ...       ...       ...          ...  ...  \n",
       "177  [newplasmend2,newplasmend1]   plasbc1   plasbc2  genomechunk  NaN  \n",
       "178  [newplasmend2,newplasmend1]   plasbc1   plasbc2  genomechunk  NaN  \n",
       "179  [newplasmend2,newplasmend1]   plasbc1   plasbc2  genomechunk  NaN  \n",
       "180  [newplasmend2,newplasmend1]   plasbc1   plasbc2  genomechunk  NaN  \n",
       "181  [newplasmend2,newplasmend1]   plasbc1   plasbc2  genomechunk  NaN  \n",
       "\n",
       "[182 rows x 18 columns]"
      ],
      "text/html": "<div>\n<style scoped>\n    .dataframe tbody tr th:only-of-type {\n        vertical-align: middle;\n    }\n\n    .dataframe tbody tr th {\n        vertical-align: top;\n    }\n\n    .dataframe thead th {\n        text-align: right;\n    }\n</style>\n<table border=\"1\" class=\"dataframe\">\n  <thead>\n    <tr style=\"text-align: right;\">\n      <th></th>\n      <th>date_sequenced</th>\n      <th>barcode</th>\n      <th>genome</th>\n      <th>int_control</th>\n      <th>plasmid1</th>\n      <th>plasmid2</th>\n      <th>primerf</th>\n      <th>primerr</th>\n      <th>c1</th>\n      <th>c2</th>\n      <th>c3</th>\n      <th>c4</th>\n      <th>see</th>\n      <th>prefix</th>\n      <th>variable1</th>\n      <th>variable2</th>\n      <th>suffix</th>\n      <th>note</th>\n    </tr>\n  </thead>\n  <tbody>\n    <tr>\n      <th>0</th>\n      <td>180201</td>\n      <td>L10R49</td>\n      <td>B_gen</td>\n      <td>s22</td>\n      <td>Bcsoo</td>\n      <td>NaN</td>\n      <td>UintF</td>\n      <td>NaN</td>\n      <td>25,[atc2]</td>\n      <td>NaN</td>\n      <td>NaN</td>\n      <td>NaN</td>\n      <td>NaT</td>\n      <td>NaN</td>\n      <td>NaN</td>\n      <td>NaN</td>\n      <td>NaN</td>\n      <td>NaN</td>\n    </tr>\n    <tr>\n      <th>1</th>\n      <td>180201</td>\n      <td>L10R126</td>\n      <td>B_gen</td>\n      <td>s22</td>\n      <td>Bcsoo</td>\n      <td>NaN</td>\n      <td>UintF</td>\n      <td>NaN</td>\n      <td>25,[atc1]</td>\n      <td>NaN</td>\n      <td>NaN</td>\n      <td>NaN</td>\n      <td>NaT</td>\n      <td>NaN</td>\n      <td>NaN</td>\n      <td>NaN</td>\n      <td>NaN</td>\n      <td>NaN</td>\n    </tr>\n    <tr>\n      <th>2</th>\n      <td>180201</td>\n      <td>L10L10</td>\n      <td>B_gen</td>\n      <td>s22</td>\n      <td>Bcsoo</td>\n      <td>NaN</td>\n      <td>UintF</td>\n      <td>NaN</td>\n      <td>25,[atc]</td>\n      <td>NaN</td>\n      <td>NaN</td>\n      <td>NaN</td>\n      <td>NaT</td>\n      <td>NaN</td>\n      <td>NaN</td>\n      <td>NaN</td>\n      <td>NaN</td>\n      <td>NaN</td>\n    </tr>\n    <tr>\n      <th>3</th>\n      <td>180201</td>\n      <td>R49R49</td>\n      <td>B_gen</td>\n      <td>s22</td>\n      <td>Bcsoo</td>\n      <td>NaN</td>\n      <td>UintF</td>\n      <td>NaN</td>\n      <td>25,[]</td>\n      <td>NaN</td>\n      <td>NaN</td>\n      <td>NaN</td>\n      <td>NaT</td>\n      <td>NaN</td>\n      <td>NaN</td>\n      <td>NaN</td>\n      <td>NaN</td>\n      <td>NaN</td>\n    </tr>\n    <tr>\n      <th>4</th>\n      <td>180201</td>\n      <td>L10R49</td>\n      <td>B_gen</td>\n      <td>s22</td>\n      <td>Bpcpc</td>\n      <td>NaN</td>\n      <td>UintF</td>\n      <td>NaN</td>\n      <td>25,[atc2]</td>\n      <td>NaN</td>\n      <td>NaN</td>\n      <td>NaN</td>\n      <td>NaT</td>\n      <td>NaN</td>\n      <td>NaN</td>\n      <td>NaN</td>\n      <td>NaN</td>\n      <td>NaN</td>\n    </tr>\n    <tr>\n      <th>...</th>\n      <td>...</td>\n      <td>...</td>\n      <td>...</td>\n      <td>...</td>\n      <td>...</td>\n      <td>...</td>\n      <td>...</td>\n      <td>...</td>\n      <td>...</td>\n      <td>...</td>\n      <td>...</td>\n      <td>...</td>\n      <td>...</td>\n      <td>...</td>\n      <td>...</td>\n      <td>...</td>\n      <td>...</td>\n      <td>...</td>\n    </tr>\n    <tr>\n      <th>177</th>\n      <td>201212</td>\n      <td>npbc6</td>\n      <td>NaN</td>\n      <td>REC49</td>\n      <td>i70</td>\n      <td>i71-2</td>\n      <td>UintF</td>\n      <td>chlorR</td>\n      <td>5,[sal1]</td>\n      <td>25,[sal1]</td>\n      <td>NaN</td>\n      <td>NaN</td>\n      <td>2020-12-11</td>\n      <td>[newplasmend2,newplasmend1]</td>\n      <td>plasbc1</td>\n      <td>plasbc2</td>\n      <td>genomechunk</td>\n      <td>NaN</td>\n    </tr>\n    <tr>\n      <th>178</th>\n      <td>201212</td>\n      <td>npbc7</td>\n      <td>NaN</td>\n      <td>REC49</td>\n      <td>i70</td>\n      <td>i71-2</td>\n      <td>UintF</td>\n      <td>chlorR</td>\n      <td>5,[sal1]</td>\n      <td>25,[sal1,atc,cin]</td>\n      <td>NaN</td>\n      <td>NaN</td>\n      <td>2020-12-11</td>\n      <td>[newplasmend2,newplasmend1]</td>\n      <td>plasbc1</td>\n      <td>plasbc2</td>\n      <td>genomechunk</td>\n      <td>NaN</td>\n    </tr>\n    <tr>\n      <th>179</th>\n      <td>201212</td>\n      <td>npbc8</td>\n      <td>NaN</td>\n      <td>REC49</td>\n      <td>i70</td>\n      <td>i71-2</td>\n      <td>UintF</td>\n      <td>chlorR</td>\n      <td>5,[sal1,atc,ara]</td>\n      <td>25,[sal1,atc,cin]</td>\n      <td>NaN</td>\n      <td>NaN</td>\n      <td>2020-12-11</td>\n      <td>[newplasmend2,newplasmend1]</td>\n      <td>plasbc1</td>\n      <td>plasbc2</td>\n      <td>genomechunk</td>\n      <td>NaN</td>\n    </tr>\n    <tr>\n      <th>180</th>\n      <td>201212</td>\n      <td>npbc9</td>\n      <td>NaN</td>\n      <td>REC49</td>\n      <td>i70</td>\n      <td>i71-2</td>\n      <td>UintF</td>\n      <td>chlorR</td>\n      <td>5,[sal1]</td>\n      <td>25,[sal1,atc,ara]</td>\n      <td>NaN</td>\n      <td>NaN</td>\n      <td>2020-12-11</td>\n      <td>[newplasmend2,newplasmend1]</td>\n      <td>plasbc1</td>\n      <td>plasbc2</td>\n      <td>genomechunk</td>\n      <td>NaN</td>\n    </tr>\n    <tr>\n      <th>181</th>\n      <td>201212</td>\n      <td>npbc10</td>\n      <td>NaN</td>\n      <td>REC49</td>\n      <td>i70</td>\n      <td>i71-2</td>\n      <td>UintF</td>\n      <td>chlorR</td>\n      <td>5,[sal1,atc,cin]</td>\n      <td>25,[sal1,atc,ara]</td>\n      <td>NaN</td>\n      <td>NaN</td>\n      <td>2020-12-11</td>\n      <td>[newplasmend2,newplasmend1]</td>\n      <td>plasbc1</td>\n      <td>plasbc2</td>\n      <td>genomechunk</td>\n      <td>NaN</td>\n    </tr>\n  </tbody>\n</table>\n<p>182 rows × 18 columns</p>\n</div>"
     },
     "metadata": {},
     "execution_count": 2
    }
   ],
   "source": [
    "df_data"
   ]
  },
  {
   "cell_type": "code",
   "execution_count": null,
   "metadata": {},
   "outputs": [],
   "source": [
    "import pickle\n",
    "\n",
    "statsfile = os.path.join(\"/\",datapath,\"alldata.pickle\")\n",
    "with open(statsfile,'rb') as saved_file:\n",
    "    statsdf = pickle.load(saved_file)\n",
    "statsdf['dataname'] = statsdf.dataname.astype('str')\n",
    "    \n",
    "for dataname in statsdf.dataname:\n",
    "    datanamestr = str(dataname)\n",
    "    plist = '_'.join(list(df_data[df_data.date_sequenced==datanamestr].primerf.unique()))\n",
    "    statsdf.loc[statsdf.dataname==dataname,\"primerf\"]=plist\n",
    "    plist = '_'.join(list(df_data[df_data.date_sequenced==datanamestr].primerr.unique()))\n",
    "    statsdf.loc[statsdf.dataname==dataname,\"primerr\"]=plist\n",
    "statsdf"
   ]
  },
  {
   "cell_type": "code",
   "execution_count": null,
   "metadata": {},
   "outputs": [],
   "source": [
    "import matplotlib.pyplot as plt\n",
    "\n",
    "\n",
    "plt.bar(statsdf.dataname,height = statsdf.forward, align=\"center\",label='foward')\n",
    "\n",
    "plt.bar(statsdf.dataname,height = statsdf.reverse,bottom = statsdf.forward, align=\"center\",label='reverse')\n",
    "\n",
    "plt.bar(statsdf.dataname,height = statsdf.unknown,bottom = statsdf.forward+statsdf.reverse, align=\"center\",label='unknown')\n",
    "plt.xticks(rotation=80)\n",
    "plt.legend()\n",
    "plt.show()"
   ]
  },
  {
   "cell_type": "code",
   "execution_count": null,
   "metadata": {},
   "outputs": [],
   "source": [
    "datasets = list(df_data.date_sequenced.unique())\n",
    "\n",
    "for dataset in datasets:\n",
    "    print(\"data = \"+dataset)\n",
    "    df_dataset = df_data[df_data.date_sequenced==dataset]\n",
    "    barcodes = list(df_dataset.barcode.unique())\n",
    "    for bc in barcodes:\n",
    "        df_bc = df_dataset[df_dataset.barcode==bc]\n",
    "        conditions = range(1,5)\n",
    "        induction_df = pd.DataFrame(columns=[\"time\",\"inducer\",\"inducer_conc\"])\n",
    "        time_acc = 0\n",
    "        for condition in conditions:\n",
    "            cond_str = \"c\"+str(condition)\n",
    "            cond_data = df_bc[cond_str].iloc[0]\n",
    "            if(pd.isna(cond_data)):\n",
    "                break\n",
    "            else:\n",
    "                cond_split = cond_data.split(\",\",maxsplit=1)\n",
    "                cond_split[1] = cond_split[1].replace(\"[\",\"\").replace(\"]\",\"\").split(\",\")\n",
    "                time_hr = int(cond_split[0])\n",
    "                time_acc += time_hr\n",
    "                print(cond_split)\n",
    "                for inducer in cond_split[1]:\n",
    "                    \n",
    "                    #this part goes through the inducer df to get the right inducer concentration\n",
    "                    if(inducer==\"\"):\n",
    "                        #this means we induced with nothing\n",
    "                        induction_df = induction_df.append(pd.DataFrame([[time_acc,\"none\",0]],\\\n",
    "                                                                columns=[\"time\",\"inducer\",\"inducer_conc\"]))\n",
    "                    else:\n",
    "                        print(\"getting concentration\")\n",
    "                        print(df_inducers[df_inducers.inducername == inducer])\n",
    "                        print(int(dataset.split(\"_\")[0]))\n",
    "                        print(df_inducers[df_inducers.inducername == inducer][int(dataset.split(\"_\")[0])].iloc[0])\n",
    "                        ind_concentration = df_inducers[df_inducers.inducername == inducer][int(dataset.split(\"_\")[0])].iloc[0]\n",
    "                        inducername = inducer\n",
    "                        if(inducer[-1] in '1234567890'):\n",
    "                            #if the inducer has a number at the end of it, take that off for the inducer's name\n",
    "                            inducername = inducer[:-1]\n",
    "\n",
    "                        induction_df = induction_df.append(pd.DataFrame([[time_acc,inducername,ind_concentration]],\\\n",
    "                                                                    columns=[\"time\",\"inducer\",\"inducer_conc\"]))\n",
    "                \n",
    "    print(\"barcodes = \"+str(barcodes))\n"
   ]
  }
 ]
}