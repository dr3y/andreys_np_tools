{
 "cells": [
  {
   "cell_type": "code",
   "execution_count": 1,
   "source": [
    "import sys\r\n",
    "import os\r\n",
    "sys.path.append(os.path.join(\".\",\"nptools\"))\r\n",
    "\r\n",
    "#Jseq = \"GCTCAGTGGTGTACGGTACAAACCAGTAGCTAGCATTATACCTAGGACTGAGCTAGCTGTCAGCTCCGGCTTGTCGACGACGGCGT\"\r\n",
    "#Pseq = \"GCTCAGTGGTGTACGGTACAAACCAGTATCCACACATTATACGAGCCGGATGATTAAATTGAAACTCCGGCTTGTCGACGACGGCGT\"\r\n",
    "\r\n",
    "Jonly = \"CTGACAGCTAGCTCAGTCCTAGGTATAATGCTAGC\" #this one is on the \"CC\" plasmid\r\n",
    "Ponly = \"TTTCAATTTAATCATCCGGCTCGTATAATGTGTGGA\" #this one is on the \"PA\" plasmid\r\n",
    "bc0 = \"AGTAGCACTAGGCAATTTGTTCCGTATTGAAGAGACAGC\" #I accidentally put this one on both plasmids, then changed to below\r\n",
    "bc1 = \"ACCAATGGAGCAGGAATAGTTACTCATCAGCTGGTGAG\" #this one is usually associated with the \"CC\" plasmid\r\n",
    "bc2 = \"CTAGTTAGATGATAAACTAGTTGCTTGGAACGAACCGG\" #this one is associated with the \"PA\" plasmid\r\n",
    "beginner =     \"CAAGCCCATTATTACCCTGTTATCCCTAGACACCAATCAGAGGCCACA\"#\"TCGACGACGGCGTG\")\r\n",
    "attBsiteU21R = \"CCCAGCAGGTATGATCCTGACGACGGAGCACGCCGTCGTCGACAAGCC\"#\"AGTTCGTAGACGGA\")\r\n",
    "attBsiteU22R = \"TTTGTTAGGTATGATCCTGACGACGGAGCACGCCGTCGTCGACAAGCC\"\r\n",
    "attBnoU = \"AGGTATGATCCTGACGACGGAGCACGCCGTCGTCGACAAGCC\"\r\n",
    "U21primerend = \"GTACAAACCAGTAGCTAGCATTATACCTAGGACTGAGCTAGCTGTCAGCTCCGGCTTGTC\"+\\\r\n",
    "                \"GACGACGGCGTGCTCCGTCGTCAGGATCATACCTGCTGGGAGTTCGTAGACGGA\"\r\n",
    "\r\n",
    "U22primerend = \"GCTCAGTGGTGTACGGTACAAACCAGTATCCACACATTATACGAGCCGGATGATTAAAT\"+\\\r\n",
    "                \"TGAAACTCCGGCTTGTCGACGACGGCGTGCTCCGTCGTCAGGATCATACCTAACAAACGCAGAATCCAAGC\"\r\n",
    "\r\n",
    "newplasmend1 = \"GATAAAAACGGTTAGCGCTTCGTTGCCTAGGGATAACAGGGTAATGCCTG\"\r\n",
    "newplasmend2 = \"TAATCTCATGACCAAAATCCCTTATGCCTAGGGATAACAGGGTAATGCCT\"\r\n",
    "\r\n",
    "\r\n",
    "barcodes = {\r\n",
    "    \"BC01\":\"AAGAAAGTTGTCGGTGTCTTTGT\",\r\n",
    "    \"BC02\":\"TCGATTCCGTTTGTAGTCGTCTG\",\r\n",
    "    \"BC03\":\"GAGTCTTGTGTCCCAGTTACCAG\",\r\n",
    "    \"BC04\":\"TTCGGATTCTATCGTGTTTCCCT\",\r\n",
    "    \"BC05\":\"CTTGTCCAGGGTTTGTGTAACCT\",\r\n",
    "    \"BC06\":\"TTCTCGCAAAGGCAGAAAGTAGT\",\r\n",
    "    \"BC07\":\"GTGTTACCGTGGGAATGAATCCT\",\r\n",
    "    \"BC08\":\"TTCAGGGAACAAACCAAGTTACG\",\r\n",
    "    \"BC09\":\"AACTAGGCACAGCGAGTCTTGGT\",\r\n",
    "    \"BC10\":\"AAGCGTTGAAACCTTTGTCCTCT\",\r\n",
    "    \"BC11\":\"GTTTCATCTATCGGAGGGAATGG\",\r\n",
    "    \"BC12\":\"CAGGTAGAAAGAAGCAGAATCGG\",\r\n",
    "    \"BC13\":\"AGAACGACTTCCATACTCGTGTG\",\r\n",
    "    \"BC14\":\"AACGAGTCTCTTGGGACCCATAG\",\r\n",
    "    \"BC15\":\"AGGTCTACCTCGCTAACACCACT\"\r\n",
    "    }\r\n",
    "from nanopore_scripts import *\r\n",
    "npbc_justseqs = []\r\n",
    "npbc_justseqs_rc = []\r\n",
    "for bc in barcodes:\r\n",
    "    npbc_justseqs+=[barcodes[bc]]\r\n",
    "    npbc_justseqs_rc+=[rc(barcodes[bc])]\r\n",
    "    barcodes[bc]= (barcodes[bc],rc(barcodes[bc]))\r\n",
    "npbc_justseqs += npbc_justseqs_rc\r\n",
    "print(\"done\")"
   ],
   "outputs": [
    {
     "output_type": "stream",
     "name": "stdout",
     "text": [
      "done\n"
     ]
    }
   ],
   "metadata": {}
  },
  {
   "cell_type": "code",
   "execution_count": null,
   "source": [],
   "outputs": [],
   "metadata": {}
  },
  {
   "cell_type": "code",
   "execution_count": 8,
   "source": [
    "import glob\r\n",
    "fastqdirectory = os.path.join(\".\",\"data\")\r\n",
    "#print(glob.glob(os.path.join(fastqdirectory,\"*.fastq\")))\r\n",
    "fastqfilename = None\r\n",
    "i = 3\r\n",
    "processreads = 500\r\n",
    "#testread = rc(testread)[slicing[0]:slicing[1]] #[298+86-12:298+86+86+12]#[130:212]\r\n",
    "seqstats = [0,0,0]\r\n",
    "postfix = [attBnoU]\r\n",
    "#prefix =  [U21primerend,U22primerend]\r\n",
    "prefix = [rc(beginner)]\r\n",
    "vseqs = [bc1,bc2]\r\n",
    "postfix = [rc(newplasmend1),rc(newplasmend2)]\r\n",
    "#prefix =  [rc(U21primerend),rc(U22primerend)]\r\n",
    "#postfix = [attBnoU]\r\n",
    "variable_error_frac = 0.4\r\n",
    "prefix_error_frac = 0.4\r\n",
    "postfix_error_frac = 0.4\r\n",
    "max_misscount = 2 #delete reads with more than two mismatches\r\n",
    "\r\n",
    "attb_detection_threshold = len(prefix[0])/5\r\n",
    "frontchecklength = 130\r\n",
    "\r\n",
    "variable_length=sum([len(a) for a in vseqs])/float(len(vseqs))\r\n",
    "variable_errors_allowed = int(variable_length*variable_error_frac)\r\n",
    "\r\n",
    "prefix_length=sum([len(a) for a in prefix])/float(len(prefix))\r\n",
    "prefix_errors_allowed = int(prefix_length*prefix_error_frac)\r\n",
    "\r\n",
    "postfix_length=sum([len(a) for a in postfix])/float(len(postfix))\r\n",
    "postfix_errors_allowed = int(postfix_length*postfix_error_frac)\r\n",
    "\r\n",
    "\"\"\r\n",
    "allseqDict,seqstats,unsorted=barcodeSplitAndCountRecords(fastqdirectory,barcodes,\\\r\n",
    "                                                barcode_detection_threshold=8,\\\r\n",
    "                                                end_threshold=postfix_errors_allowed,\\\r\n",
    "                                                processreads=processreads,\\\r\n",
    "                                                prefix_sequence=prefix,\\\r\n",
    "                                                    postfix_sequence=postfix,\\\r\n",
    "                                                prefix_detection_threshold=prefix_errors_allowed,\\\r\n",
    "                                                variable_sequence_threshold=variable_errors_allowed,\\\r\n",
    "                                                variable_sequences=vseqs,\\\r\n",
    "                                                frontchecklength=frontchecklength,\\\r\n",
    "                                                visualize=False)\r\n",
    "\r\n",
    "allseqdictpart2,seqstatspart2,unsortedpart2 = barcodeSplitAndCountRecords(unsorted,barcodes,\\\r\n",
    "                                                barcode_detection_threshold=8,\\\r\n",
    "                                                end_threshold=postfix_errors_allowed,\\\r\n",
    "                                                processreads=processreads,\\\r\n",
    "                                                prefix_sequence=prefix,\\\r\n",
    "                                                    postfix_sequence=postfix,\\\r\n",
    "                                                prefix_detection_threshold=prefix_errors_allowed,\\\r\n",
    "                                                variable_sequence_threshold=variable_errors_allowed,\\\r\n",
    "                                                variable_sequences=vseqs,\\\r\n",
    "                                                frontchecklength=frontchecklength,\\\r\n",
    "                                                visualize=False)\r\n",
    "\r\n",
    "print(\"we had {} forward, {} reverse, and {} where we couldn't tell\".format(seqstats[0],seqstats[1],seqstats[2]))\r\n",
    "print(\"we had {} forward, {} reverse, and {} where we couldn't tell the second time\".\\\r\n",
    "                                                      format(seqstatspart2[0],seqstatspart2[1],seqstatspart2[2]))\r\n",
    "bcwefound =sorted(allseqDict.keys())\r\n",
    "numseqs = [len(allseqDict[a]) for a in bcwefound]\r\n",
    "[print(\"{}:{}\".format(a[0],a[1])) for a in zip(bcwefound,numseqs)]\r\n",
    "print(\"{} sequences were split from existing ones\".format(len(unsorted)))\r\n",
    "print(\"now, operating on the split sequences...\")\r\n",
    "bcwefound =sorted(allseqdictpart2.keys())\r\n",
    "numseqs = [len(allseqdictpart2[a]) for a in bcwefound]\r\n",
    "[print(\"{}:{}\".format(a[0],a[1])) for a in zip(bcwefound,numseqs)]\r\n",
    "print(\"{} sequences were split from existing ones\".format(len(unsortedpart2)))\r\n",
    "\r\n",
    "for a in allseqdictpart2:\r\n",
    "    if(a in allseqDict):\r\n",
    "        allseqDict[a] = allseqDict[a]+allseqdictpart2[a]\r\n",
    "print(\"final totals are:\")\r\n",
    "bcwefound =sorted(allseqDict.keys())\r\n",
    "numseqs = [len(allseqDict[a]) for a in bcwefound]\r\n",
    "[print(\"{}:{}\".format(a[0],a[1])) for a in zip(bcwefound,numseqs)]\r\n",
    "#print(U21primerend)\r\n",
    "filtered_allseqDict = {}\r\n",
    "for bc in allseqDict:\r\n",
    "    filtered_allseqDict[bc]=[]\r\n",
    "    for n,seq in enumerate(allseqDict[bc]):\r\n",
    "        misscount = seq.count(-1)\r\n",
    "        if(misscount<=max_misscount):\r\n",
    "            filtered_allseqDict[bc] += [seq]\r\n",
    "print(filtered_allseqDict[\"BC01\"])\r\n",
    "#print(testread)\r\n",
    "#help(edlib.align)"
   ],
   "outputs": [
    {
     "output_type": "display_data",
     "data": {
      "text/plain": [
       "FloatProgress(value=0.0, max=1.0)"
      ],
      "application/vnd.jupyter.widget-view+json": {
       "version_major": 2,
       "version_minor": 0,
       "model_id": "8108160678a441c88a3d8c46e8509a10"
      }
     },
     "metadata": {}
    },
    {
     "output_type": "stream",
     "name": "stdout",
     "text": [
      "2\n"
     ]
    },
    {
     "output_type": "display_data",
     "data": {
      "text/plain": [
       "FloatProgress(value=0.0, max=1.0)"
      ],
      "application/vnd.jupyter.widget-view+json": {
       "version_major": 2,
       "version_minor": 0,
       "model_id": "338991f99fdf448da3d69fcddc367845"
      }
     },
     "metadata": {}
    },
    {
     "output_type": "stream",
     "name": "stdout",
     "text": [
      "we had 252 forward, 234 reverse, and 14 where we couldn't tell\n",
      "we had 9 forward, 8 reverse, and 16 where we couldn't tell the second time\n",
      "BC01:47\n",
      "BC02:150\n",
      "BC03:28\n",
      "BC04:19\n",
      "BC05:33\n",
      "BC06:16\n",
      "BC07:13\n",
      "BC08:6\n",
      "BC09:36\n",
      "BC10:33\n",
      "BC11:27\n",
      "BC12:72\n",
      "BC13:1\n",
      "none:19\n",
      "33 sequences were split from existing ones\n",
      "now, operating on the split sequences...\n",
      "BC02:4\n",
      "BC03:1\n",
      "BC05:1\n",
      "BC06:1\n",
      "BC08:2\n",
      "BC11:1\n",
      "none:23\n",
      "5 sequences were split from existing ones\n",
      "final totals are:\n",
      "BC01:47\n",
      "BC02:154\n",
      "BC03:29\n",
      "BC04:19\n",
      "BC05:34\n",
      "BC06:17\n",
      "BC07:13\n",
      "BC08:8\n",
      "BC09:36\n",
      "BC10:33\n",
      "BC11:28\n",
      "BC12:72\n",
      "BC13:1\n",
      "none:42\n",
      "[('B0', 0, -1), (0, 0, 'E0'), (0, 0, 0, 'E0'), (0, 0, 0, 'E0'), (0, 1, 'E0'), ('B0', 0, -1), (0, 0, 'E0'), ('B0', -1), ('B0', 0, -1), ('B0', 0, 0, 0, 0, -1), ('B0', 1, -1), ('B0', 0, 0, 0, 0, -1), (0, 0, 'E0'), (0, 0, 'E0'), ('B0', 0, -1), (0, 0, 'E0'), (0, 0, 'E0'), (0, -1, 'E0'), (0, 0, -1, 'E0'), (0, 0, 0, 0, 0), (0, -1, 'E0'), (0, -1, 'E0'), ('B0', 0, -1), ('B0', 0, -1), ('B0',), (0, 0, 0, 0, 0, 'E0'), (0, -1, 'E0'), (0, -1, 'E0'), ('B0', 0, -1), ('B0', 0, -1), (0, 0, 0, 'E0'), (0, 0, 0), (0, 0, 'E0'), ('B0', 0, -1), (0, 0, 'E0'), (0, 0, 0, 0, 'E0'), (0, -1, 'E0'), ('B0', 0, -1), ('B0', 0, 0, 0, -1), (0, -1, 'E0'), (0, 0, 0, 0, 0, 'E0'), ('B0', 0, 0, -1), ('B0', 0, -1), (0, 0, 'E0'), ('B0', 0, 0, 0, 0, -1), (0, 0, 0, 0, 'E0')]\n"
     ]
    }
   ],
   "metadata": {}
  },
  {
   "cell_type": "code",
   "execution_count": 18,
   "source": [
    "import matplotlib.pyplot as plt\r\n",
    "%matplotlib inline\r\n",
    "lengths = {}\r\n",
    "\r\n",
    "allbcs = sorted(list(filtered_allseqDict.keys()))\r\n",
    "\r\n",
    "for bc in allbcs:\r\n",
    "    lengths[bc]=[]\r\n",
    "    for seq in filtered_allseqDict[bc]:\r\n",
    "        lengths[bc]+=[len(seq)-1]\r\n",
    "\r\n",
    "\r\n",
    "pairedbcs = [[\"BC01\",\"BC07\"],\\\r\n",
    "              [\"BC02\",\"BC08\"],\\\r\n",
    "              [\"BC03\",\"BC09\"],\\\r\n",
    "              [\"BC04\",\"BC10\"],\\\r\n",
    "              [\"BC05\",\"BC11\"],\\\r\n",
    "              [\"BC06\",\"BC12\"],]\r\n",
    "\r\n",
    "for bc1,bc2 in pairedbcs:\r\n",
    "    plt.figure()\r\n",
    "    bins = range(10)\r\n",
    "    plt.hist(lengths[bc1],bins=bins,label=bc1,histtype='step')\r\n",
    "    plt.hist(lengths[bc2],bins=bins,label=bc2,histtype='step')\r\n",
    "    plt.title(f\"{bc1} and {bc2}\")\r\n",
    "    plt.show()\r\n"
   ],
   "outputs": [
    {
     "output_type": "display_data",
     "data": {
      "text/plain": [
       "<Figure size 432x288 with 1 Axes>"
      ],
      "image/png": "[encoded data removed]"
     },
     "metadata": {
      "needs_background": "light"
     }
    },
    {
     "output_type": "display_data",
     "data": {
      "text/plain": [
       "<Figure size 432x288 with 1 Axes>"
      ],
      "image/png": "[encoded data removed]"
     },
     "metadata": {
      "needs_background": "light"
     }
    },
    {
     "output_type": "display_data",
     "data": {
      "text/plain": [
       "<Figure size 432x288 with 1 Axes>"
      ],
      "image/png": "[encoded data removed]"
     },
     "metadata": {
      "needs_background": "light"
     }
    },
    {
     "output_type": "display_data",
     "data": {
      "text/plain": [
       "<Figure size 432x288 with 1 Axes>"
      ],
      "image/png": "[encoded data removed]"
     },
     "metadata": {
      "needs_background": "light"
     }
    },
    {
     "output_type": "display_data",
     "data": {
      "text/plain": [
       "<Figure size 432x288 with 1 Axes>"
      ],
      "image/png": "[encoded data removed]"
     },
     "metadata": {
      "needs_background": "light"
     }
    },
    {
     "output_type": "display_data",
     "data": {
      "text/plain": [
       "<Figure size 432x288 with 1 Axes>"
      ],
      "image/png": "[encoded data removed]"
     },
     "metadata": {
      "needs_background": "light"
     }
    }
   ],
   "metadata": {}
  },
  {
   "cell_type": "code",
   "execution_count": null,
   "source": [
    "#Now we save our barcoded data into a pickle!!\r\n",
    "import pickle\r\n",
    "save_barcoded_file=\"191118_simprec.pickl\"\r\n",
    "try:\r\n",
    "    keylen = len(allseqDict.keys())\r\n",
    "    if(keylen > 0):\r\n",
    "        with open(os.path.join(\".\",\"output\",save_barcoded_file),\"wb\") as saved_file:\r\n",
    "            pickle.dump(allseqDict,saved_file)\r\n",
    "    else:\r\n",
    "        print(\"didn't save becase the data member was empty\")\r\n",
    "except NameError:\r\n",
    "    print(\"didn't save because the data member didn't exist\")"
   ],
   "outputs": [],
   "metadata": {}
  },
  {
   "cell_type": "code",
   "execution_count": null,
   "source": [
    "import pickle\r\n",
    "import pandas\r\n",
    "import os\r\n",
    "save_barcoded_file=\"191118_simprec.pickl\"\r\n",
    "input_conditions_file = \"191115_input.csv\"\r\n",
    "\r\n",
    "experiment_dataframe = pandas.read_csv(os.path.join(\".\",\"input\",input_conditions_file)).fillna(0)\r\n",
    "\r\n",
    "with open(os.path.join(\".\",\"output\",save_barcoded_file),'rb') as saved_file:\r\n",
    "    allseqDict = pickle.load(saved_file)"
   ],
   "outputs": [],
   "metadata": {}
  },
  {
   "cell_type": "code",
   "execution_count": null,
   "source": [
    "bcnum = 2\r\n",
    "bcnum2 = 3\r\n",
    "bclist = sorted([a for a in allseqDict.keys()])\r\n",
    "print(\"barcode number \"+str(bcnum))\r\n",
    "print(\"second barcode number \"+str(bcnum2))\r\n",
    "for b in bclist:\r\n",
    "    cnum1 = 0\r\n",
    "    cnum2 = 0\r\n",
    "    countnum = 0\r\n",
    "    for a in allseqDict[b]:\r\n",
    "        stra = \"\".join([str(i) for i in a])\r\n",
    "        cnum1 += a.count(bcnum)\r\n",
    "        cnum2 += a.count(bcnum2)\r\n",
    "        z1 = (str(bcnum)+str(bcnum2)) in stra\r\n",
    "        z2 = (str(bcnum2)+str(bcnum)) in stra\r\n",
    "        \r\n",
    "        if(z1 or z2):\r\n",
    "            #print(a)\r\n",
    "            countnum+=1\r\n",
    "    print(b + \" has \" + str(cnum1)+ \" \"+str(bcnum) + \" and \"+ str(cnum2)+ \" \"+str(bcnum2))\r\n",
    "#print('\\n'.join([b+\" has \"+ str(sum([(bcnum in a) and (bcnum2 in a) for a in allseqDict[b]])) for b in bclist]))"
   ],
   "outputs": [
    {
     "output_type": "stream",
     "name": "stdout",
     "text": [
      "barcode number 2\n",
      "second barcode number 3\n",
      "BC01 has 82 2 and 1 3\n",
      "BC02 has 77 2 and 106 3\n",
      "BC03 has 20 2 and 22 3\n",
      "BC04 has 18 2 and 5 3\n",
      "BC05 has 50 2 and 1 3\n",
      "BC06 has 11 2 and 11 3\n",
      "BC07 has 1 2 and 7 3\n",
      "BC08 has 0 2 and 8 3\n",
      "BC09 has 0 2 and 36 3\n",
      "BC10 has 0 2 and 34 3\n",
      "BC11 has 6 2 and 30 3\n",
      "BC12 has 0 2 and 70 3\n",
      "BC13 has 0 2 and 1 3\n",
      "none has 13 2 and 19 3\n"
     ]
    }
   ],
   "metadata": {}
  },
  {
   "cell_type": "code",
   "execution_count": null,
   "source": [
    "#load the pickle!!! Also load conditions from a file!!!\r\n",
    "import pickle\r\n",
    "import pandas\r\n",
    "import os\r\n",
    "save_barcoded_file=\"191118_simprec.pickl\"\r\n",
    "input_conditions_file = \"191115_input.csv\"\r\n",
    "\r\n",
    "experiment_dataframe = pandas.read_csv(os.path.join(\".\",\"input\",input_conditions_file)).fillna(0)\r\n",
    "\r\n",
    "with open(os.path.join(\".\",\"output\",save_barcoded_file),'rb') as saved_file:\r\n",
    "    allseqDict = pickle.load(saved_file)\r\n",
    "\r\n",
    "\r\n",
    "#bclists = []\r\n",
    "#bclists = [simprec.BC01,simprec.BC02,simprec.BC03,simprec.BC04,simprec.BC05,\\\r\n",
    "#           simprec.BC06,simprec.BC07,simprec.BC08,simprec.BC09,simprec.BC10,\\\r\n",
    "#           simprec.BC11,simprec.BC12,simprec.BC13,simprec.BC14,simprec.BC15,\\\r\n",
    "#           simprec.none]\r\n",
    "#bcnames = [\"BC01\",\"BC02\",\"BC03\",\"BC04\",\"BC05\",\\\r\n",
    "#           \"BC06\",\"BC07\",\"BC08\",\"BC09\",\"BC10\",\\\r\n",
    "#           \"BC11\",\"BC12\",\"BC13\",\"BC14\",\"BC15\",\"none\"]\r\n",
    "\r\n",
    "#bcDict = {a[0]:a[1] for a in zip(bcnames,bclists)}\r\n",
    "PJdict = {}\r\n",
    "letters = [\"J\",\"P\",\"E\",\"Q\"]\r\n",
    "for bc in experiment_dataframe[\"barcode\"]:\r\n",
    "    seqs = []\r\n",
    "    for seq in allseqDict[bc]:\r\n",
    "        convertedseq = \"\"\r\n",
    "        for element in seq:\r\n",
    "            if(element in range(len(letters))):\r\n",
    "                convertedseq += letters[element]\r\n",
    "        if(convertedseq != \"\"):\r\n",
    "            newseq = convertedseq [:-1]\r\n",
    "            if(newseq != \"\" and len(newseq)>1):\r\n",
    "                seqs+=[newseq]\r\n",
    "    PJdict[bc] = seqs\r\n",
    "#print(PJdict[\"BC01\"])\r\n",
    "\r\n",
    "all_lists,run_lists,switch_lists,first_last = countBarcodeStats(PJdict,chopseqs='left')\r\n",
    "stats_counted = [\r\n",
    "    ([\"total Ps in a read\",\"total Js in a read\"],all_lists),\r\n",
    "    ([\"longest P run in a read\",\"longest J run in a read\"],run_lists),\r\n",
    "    ([\"PJ\", \"JP\"],switch_lists),\r\n",
    "    ([\"P/J, first\",\"P/J, last\"],first_last),\r\n",
    "]"
   ],
   "outputs": [],
   "metadata": {}
  },
  {
   "cell_type": "code",
   "execution_count": null,
   "source": [
    "experiment_dataframe[experiment_dataframe[\"barcode\"]==\"BC01\"].iloc[0]"
   ],
   "outputs": [
    {
     "output_type": "execute_result",
     "data": {
      "text/plain": [
       "SAL         100\n",
       "CIN           0\n",
       "ATC           0\n",
       "ARA           0\n",
       "primer      u22\n",
       "ink0        i70\n",
       "ink1          0\n",
       "rec         r48\n",
       "barcode    BC01\n",
       "Name: 0, dtype: object"
      ]
     },
     "metadata": {},
     "execution_count": 7
    }
   ],
   "metadata": {}
  },
  {
   "cell_type": "code",
   "execution_count": null,
   "source": [
    "%matplotlib inline\r\n",
    "stat = 0\r\n",
    "\r\n",
    "labs = stats_counted[stat][0]\r\n",
    "dlist = stats_counted[stat][1]\r\n",
    "\r\n",
    "#crange = [0,.01,6]\r\n",
    "crange = [0,.02,1]\r\n",
    "sqrange = [-.5,6.5]\r\n",
    "\r\n",
    "diffPlotWrapper(\"BC03\",\"BC08\",experiment_dataframe,dlist,labs=labs)\r\n",
    "diffPlotWrapper(\"BC03\",\"BC09\",experiment_dataframe,dlist,labs=labs)\r\n",
    "\r\n",
    "diffPlotWrapper(\"BC06\",\"BC11\",experiment_dataframe,dlist,labs=labs)\r\n",
    "diffPlotWrapper(\"BC06\",\"BC12\",experiment_dataframe,dlist,labs=labs)\r\n",
    "\r\n",
    "#makeBCplot1(\"BC07\",crange,sqrange,experiment_dataframe,dlist,labs)\r\n",
    "#makeBCplot1(\"BC08\",crange,sqrange,experiment_dataframe,dlist,labs)\r\n",
    "#makeBCplot1(\"BC09\",crange,sqrange,experiment_dataframe,dlist,labs)\r\n",
    "\r\n",
    "#makeBCplot1(\"BC10\",crange,sqrange,experiment_dataframe,dlist,labs)\r\n",
    "#makeBCplot1(\"BC11\",crange,sqrange,experiment_dataframe,dlist,labs)\r\n",
    "#makeBCplot1(\"BC12\",crange,sqrange,experiment_dataframe,dlist,labs)\r\n",
    "print(\"\")\r\n",
    "#diffPlotWrapper(\"BC03\",\"BC06\",experiment_dataframe,dlist,labs=labs)\r\n",
    "#diffPlotWrapper(\"BC02\",\"BC07\",conditions,bcnames,dlist,labs=labs)\r\n",
    "#diffPlotWrapper(\"BC03\",\"BC08\",conditions,bcnames,dlist,labs=labs)\r\n",
    "#diffPlotWrapper(\"BC04\",\"BC09\",conditions,bcnames,dlist,labs=labs)\r\n",
    "#diffPlotWrapper(\"BC05\",\"BC10\",conditions,bcnames,dlist,labs=labs)\r\n",
    "\r\n",
    "#diffPlotWrapper(\"BC01\",\"BC11\",conditions,bcnames,dlist,labs=labs)\r\n",
    "#diffPlotWrapper(\"BC02\",\"BC12\",conditions,bcnames,dlist,labs=labs)\r\n",
    "#diffPlotWrapper(\"BC03\",\"BC13\",conditions,bcnames,dlist,labs=labs)\r\n",
    "#diffPlotWrapper(\"BC04\",\"BC14\",conditions,bcnames,dlist,labs=labs)\r\n",
    "#diffPlotWrapper(\"BC05\",\"BC15\",conditions,bcnames,dlist,labs=labs)\r\n",
    "\r\n",
    "#diffPlotWrapper(\"BC14\",\"BC13\",conditions,bcnames,dlist,labs=labs)\r\n",
    "#diffPlotWrapper(\"BC15\",\"BC13\",conditions,bcnames,dlist,labs=labs)\r\n",
    "#diffPlotWrapper(\"BC05\",\"BC10\",conditions,bcnames,dlist)\r\n",
    "\r\n",
    "#diffPlotWrapper(\"BC03\",\"BC13\",conditions,bcnames,dlist)\r\n",
    "#diffPlotWrapper(\"BC04\",\"BC14\",conditions,bcnames,dlist)\r\n",
    "#diffPlotWrapper(\"BC05\",\"BC15\",conditions,bcnames,dlist)\r\n",
    "\r\n",
    "#diffPlotWrapper(\"BC02\",\"BC12\",conditions,bcnames,dlist)\r\n",
    "#diffPlotWrapper(\"BC05\",\"BC09\",conditions,bcnames,dlist)\r\n",
    "#diffPlotWrapper(\"BC04\",\"BC08\",conditions,bcnames,dlist)\r\n",
    "\r\n"
   ],
   "outputs": [
    {
     "output_type": "stream",
     "name": "stderr",
     "text": [
      ".\\nptools\\nanopore_scripts.py:870: MatplotlibDeprecationWarning: The 'normed' parameter of hist2d() has been renamed 'density' since Matplotlib 3.1; support for the old name will be dropped in 3.3.\n",
      "  normed=True,cmap = \"Reds\")\n",
      ".\\nptools\\nanopore_scripts.py:877: MatplotlibDeprecationWarning: The 'normed' parameter of hist2d() has been renamed 'density' since Matplotlib 3.1; support for the old name will be dropped in 3.3.\n",
      "  normed=True,cmap = \"viridis\")\n",
      "D:\\anaconda3\\lib\\site-packages\\numpy\\lib\\histograms.py:1123: RuntimeWarning: invalid value encountered in true_divide\n",
      "  hist /= s\n",
      "<string>:6: UserWarning: Warning: converting a masked element to nan.\n",
      "D:\\anaconda3\\lib\\site-packages\\numpy\\core\\_asarray.py:83: UserWarning: Warning: converting a masked element to nan.\n",
      "  return array(a, dtype, copy=False, order=order)\n"
     ]
    },
    {
     "output_type": "stream",
     "name": "stdout",
     "text": [
      "\n"
     ]
    },
    {
     "output_type": "display_data",
     "data": {
      "text/plain": [
       "<Figure size 432x288 with 0 Axes>"
      ]
     },
     "metadata": {}
    },
    {
     "output_type": "display_data",
     "data": {
      "text/plain": [
       "<Figure size 432x288 with 2 Axes>"
      ],
      "image/png": "[encoded data removed]"
     },
     "metadata": {
      "needs_background": "light"
     }
    },
    {
     "output_type": "display_data",
     "data": {
      "text/plain": [
       "<Figure size 432x288 with 0 Axes>"
      ]
     },
     "metadata": {}
    },
    {
     "output_type": "display_data",
     "data": {
      "text/plain": [
       "<Figure size 432x288 with 2 Axes>"
      ],
      "image/png": "[encoded data removed]"
     },
     "metadata": {
      "needs_background": "light"
     }
    },
    {
     "output_type": "display_data",
     "data": {
      "text/plain": [
       "<Figure size 432x288 with 0 Axes>"
      ]
     },
     "metadata": {}
    },
    {
     "output_type": "display_data",
     "data": {
      "text/plain": [
       "<Figure size 432x288 with 2 Axes>"
      ],
      "image/png": "[encoded data removed]"
     },
     "metadata": {
      "needs_background": "light"
     }
    },
    {
     "output_type": "display_data",
     "data": {
      "text/plain": [
       "<Figure size 432x288 with 0 Axes>"
      ]
     },
     "metadata": {}
    },
    {
     "output_type": "display_data",
     "data": {
      "text/plain": [
       "<Figure size 432x288 with 2 Axes>"
      ],
      "image/png": "[encoded data removed]"
     },
     "metadata": {
      "needs_background": "light"
     }
    }
   ],
   "metadata": {}
  },
  {
   "cell_type": "code",
   "execution_count": null,
   "source": [
    "plotbcnames = bcnames #[:10]\r\n",
    "ticks = np.arange(len(plotbcnames))-.4\r\n",
    "secondticks = np.arange(len(plotbcnames))\r\n",
    "first_barcode = [first_last[a][0]/float(first_last[a][2]) for a in plotbcnames]\r\n",
    "second_barcode = [first_last[a][1]/float(first_last[a][2]) for a in plotbcnames]\r\n",
    "plt.bar(ticks,first_barcode,.4)\r\n",
    "plt.bar(secondticks,second_barcode,.4)\r\n",
    "plt.ylim(0,1)\r\n",
    "#plt.legend([\"first\",\"last\"])\r\n",
    "plt.xticks(ticks,conditions,rotation=90)\r\n",
    "pass"
   ],
   "outputs": [
    {
     "output_type": "error",
     "ename": "NameError",
     "evalue": "name 'bcnames' is not defined",
     "traceback": [
      "\u001b[1;31m---------------------------------------------------------------------------\u001b[0m",
      "\u001b[1;31mNameError\u001b[0m                                 Traceback (most recent call last)",
      "\u001b[1;32m<ipython-input-10-bf97c11b6fe9>\u001b[0m in \u001b[0;36m<module>\u001b[1;34m\u001b[0m\n\u001b[1;32m----> 1\u001b[1;33m \u001b[0mplotbcnames\u001b[0m \u001b[1;33m=\u001b[0m \u001b[0mbcnames\u001b[0m \u001b[1;31m#[:10]\u001b[0m\u001b[1;33m\u001b[0m\u001b[1;33m\u001b[0m\u001b[0m\n\u001b[0m\u001b[0;32m      2\u001b[0m \u001b[0mticks\u001b[0m \u001b[1;33m=\u001b[0m \u001b[0mnp\u001b[0m\u001b[1;33m.\u001b[0m\u001b[0marange\u001b[0m\u001b[1;33m(\u001b[0m\u001b[0mlen\u001b[0m\u001b[1;33m(\u001b[0m\u001b[0mplotbcnames\u001b[0m\u001b[1;33m)\u001b[0m\u001b[1;33m)\u001b[0m\u001b[1;33m-\u001b[0m\u001b[1;36m.4\u001b[0m\u001b[1;33m\u001b[0m\u001b[1;33m\u001b[0m\u001b[0m\n\u001b[0;32m      3\u001b[0m \u001b[0msecondticks\u001b[0m \u001b[1;33m=\u001b[0m \u001b[0mnp\u001b[0m\u001b[1;33m.\u001b[0m\u001b[0marange\u001b[0m\u001b[1;33m(\u001b[0m\u001b[0mlen\u001b[0m\u001b[1;33m(\u001b[0m\u001b[0mplotbcnames\u001b[0m\u001b[1;33m)\u001b[0m\u001b[1;33m)\u001b[0m\u001b[1;33m\u001b[0m\u001b[1;33m\u001b[0m\u001b[0m\n\u001b[0;32m      4\u001b[0m \u001b[0mfirst_barcode\u001b[0m \u001b[1;33m=\u001b[0m \u001b[1;33m[\u001b[0m\u001b[0mfirst_last\u001b[0m\u001b[1;33m[\u001b[0m\u001b[0ma\u001b[0m\u001b[1;33m]\u001b[0m\u001b[1;33m[\u001b[0m\u001b[1;36m0\u001b[0m\u001b[1;33m]\u001b[0m\u001b[1;33m/\u001b[0m\u001b[0mfloat\u001b[0m\u001b[1;33m(\u001b[0m\u001b[0mfirst_last\u001b[0m\u001b[1;33m[\u001b[0m\u001b[0ma\u001b[0m\u001b[1;33m]\u001b[0m\u001b[1;33m[\u001b[0m\u001b[1;36m2\u001b[0m\u001b[1;33m]\u001b[0m\u001b[1;33m)\u001b[0m \u001b[1;32mfor\u001b[0m \u001b[0ma\u001b[0m \u001b[1;32min\u001b[0m \u001b[0mplotbcnames\u001b[0m\u001b[1;33m]\u001b[0m\u001b[1;33m\u001b[0m\u001b[1;33m\u001b[0m\u001b[0m\n\u001b[0;32m      5\u001b[0m \u001b[0msecond_barcode\u001b[0m \u001b[1;33m=\u001b[0m \u001b[1;33m[\u001b[0m\u001b[0mfirst_last\u001b[0m\u001b[1;33m[\u001b[0m\u001b[0ma\u001b[0m\u001b[1;33m]\u001b[0m\u001b[1;33m[\u001b[0m\u001b[1;36m1\u001b[0m\u001b[1;33m]\u001b[0m\u001b[1;33m/\u001b[0m\u001b[0mfloat\u001b[0m\u001b[1;33m(\u001b[0m\u001b[0mfirst_last\u001b[0m\u001b[1;33m[\u001b[0m\u001b[0ma\u001b[0m\u001b[1;33m]\u001b[0m\u001b[1;33m[\u001b[0m\u001b[1;36m2\u001b[0m\u001b[1;33m]\u001b[0m\u001b[1;33m)\u001b[0m \u001b[1;32mfor\u001b[0m \u001b[0ma\u001b[0m \u001b[1;32min\u001b[0m \u001b[0mplotbcnames\u001b[0m\u001b[1;33m]\u001b[0m\u001b[1;33m\u001b[0m\u001b[1;33m\u001b[0m\u001b[0m\n",
      "\u001b[1;31mNameError\u001b[0m: name 'bcnames' is not defined"
     ]
    }
   ],
   "metadata": {}
  },
  {
   "cell_type": "code",
   "execution_count": null,
   "source": [
    "stretch = True\r\n",
    "def recorderplots(experiment_dataframe,letters=\"PJ\",stretch=stretch):\r\n",
    "    legendlist = []\r\n",
    "    bclist = experiment_dataframe[\"barcode\"]\r\n",
    "    for bc in bclist:\r\n",
    "        x,y,z = quantifyRecOrder(PJdict[bc],letters=letters,stretch=stretch)\r\n",
    "        plt.plot(z)\r\n",
    "        legend_unit = condNameBC(bc,experiment_dataframe)\r\n",
    "        legendlist += [legend_unit]\r\n",
    "    plt.legend(legendlist,bbox_to_anchor=(0.5, -0.05),)\r\n",
    "\r\n",
    "    \r\n",
    "plotdf = experiment_dataframe[(experiment_dataframe[\"SAL\"]==100) &\\\r\n",
    "                              (experiment_dataframe[\"ink0\"]=='g0') &\\\r\n",
    "                              ((experiment_dataframe[\"ATC\"]>0) |\\\r\n",
    "                             (experiment_dataframe[\"CIN\"]>0))]\r\n",
    "recorderplots(plotdf)\r\n",
    "plt.figure()\r\n",
    "plotdf = experiment_dataframe[(experiment_dataframe[\"ink0\"]=='g0') &\\\r\n",
    "                              ((experiment_dataframe[\"ATC\"]==0))]\r\n",
    "recorderplots(plotdf)\r\n",
    "plt.figure()\r\n",
    "plotdf = experiment_dataframe[(experiment_dataframe[\"SAL\"]==100) &\\\r\n",
    "                              (experiment_dataframe[\"ink0\"]=='g4') &\\\r\n",
    "                              ((experiment_dataframe[\"ATC\"]>0) |\\\r\n",
    "                             (experiment_dataframe[\"CIN\"]>0))]\r\n",
    "recorderplots(plotdf)\r\n",
    "plt.figure()\r\n",
    "plotdf = experiment_dataframe[(experiment_dataframe[\"ink0\"]=='g4') &\\\r\n",
    "                              ((experiment_dataframe[\"ATC\"]==0))]\r\n",
    "recorderplots(plotdf)"
   ],
   "outputs": [
    {
     "output_type": "display_data",
     "data": {
      "text/plain": [
       "<Figure size 432x288 with 1 Axes>"
      ],
      "image/png": "[encoded data removed]"
     },
     "metadata": {
      "needs_background": "light"
     }
    },
    {
     "output_type": "display_data",
     "data": {
      "text/plain": [
       "<Figure size 432x288 with 1 Axes>"
      ],
      "image/png": "[encoded data removed]"
     },
     "metadata": {
      "needs_background": "light"
     }
    },
    {
     "output_type": "display_data",
     "data": {
      "text/plain": [
       "<Figure size 432x288 with 1 Axes>"
      ],
      "image/png": "[encoded data removed]"
     },
     "metadata": {
      "needs_background": "light"
     }
    },
    {
     "output_type": "display_data",
     "data": {
      "text/plain": [
       "<Figure size 432x288 with 1 Axes>"
      ],
      "image/png": "[encoded data removed]"
     },
     "metadata": {
      "needs_background": "light"
     }
    }
   ],
   "metadata": {}
  }
 ],
 "metadata": {
  "kernelspec": {
   "name": "python3",
   "display_name": "Python 3.7.7 64-bit ('base': conda)"
  },
  "language_info": {
   "codemirror_mode": {
    "name": "ipython",
    "version": 3
   },
   "file_extension": ".py",
   "mimetype": "text/x-python",
   "name": "python",
   "nbconvert_exporter": "python",
   "pygments_lexer": "ipython3",
   "version": "3.7.7"
  },
  "interpreter": {
   "hash": "7b4b4feff2f24a0f0a34464dbe537a36fda679851528fb8735cb41fa49dffb2d"
  }
 },
 "nbformat": 4,
 "nbformat_minor": 2
}